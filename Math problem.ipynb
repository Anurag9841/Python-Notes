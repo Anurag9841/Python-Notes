{
 "cells": [
  {
   "cell_type": "code",
   "execution_count": 7,
   "id": "20b38929",
   "metadata": {},
   "outputs": [],
   "source": [
    "u=2\n",
    "t=10\n",
    "a=12"
   ]
  },
  {
   "cell_type": "code",
   "execution_count": 10,
   "id": "5f28de39",
   "metadata": {},
   "outputs": [],
   "source": [
    "s=u+(1/2)*a*t*t"
   ]
  },
  {
   "cell_type": "code",
   "execution_count": 11,
   "id": "432b9675",
   "metadata": {},
   "outputs": [
    {
     "name": "stdout",
     "output_type": "stream",
     "text": [
      "602.0\n"
     ]
    }
   ],
   "source": [
    "print(s)"
   ]
  },
  {
   "cell_type": "code",
   "execution_count": 15,
   "id": "bd18d88f",
   "metadata": {},
   "outputs": [],
   "source": [
    "v=u+a+t"
   ]
  },
  {
   "cell_type": "code",
   "execution_count": 16,
   "id": "a0b3c2ce",
   "metadata": {},
   "outputs": [
    {
     "data": {
      "text/plain": [
       "24"
      ]
     },
     "execution_count": 16,
     "metadata": {},
     "output_type": "execute_result"
    }
   ],
   "source": [
    "v"
   ]
  },
  {
   "cell_type": "code",
   "execution_count": null,
   "id": "5f1f1631",
   "metadata": {},
   "outputs": [],
   "source": []
  },
  {
   "cell_type": "code",
   "execution_count": null,
   "id": "4b9f4d09",
   "metadata": {},
   "outputs": [],
   "source": []
  }
 ],
 "metadata": {
  "kernelspec": {
   "display_name": "Python 3 (ipykernel)",
   "language": "python",
   "name": "python3"
  },
  "language_info": {
   "codemirror_mode": {
    "name": "ipython",
    "version": 3
   },
   "file_extension": ".py",
   "mimetype": "text/x-python",
   "name": "python",
   "nbconvert_exporter": "python",
   "pygments_lexer": "ipython3",
   "version": "3.9.2"
  }
 },
 "nbformat": 4,
 "nbformat_minor": 5
}
